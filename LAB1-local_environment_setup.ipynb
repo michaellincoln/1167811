{
 "cells": [
  {
   "cell_type": "markdown",
   "id": "64f9069d",
   "metadata": {},
   "source": [
    "## What We Do Today !!!\n",
    "- Who is Iroshan Aberathne?\n",
    "- How to Set up Remote Repository[GitHub] ?\n",
    "- How to Install Anaconda Distribution ?\n",
    "- What is Kaggle and how to select a dataset? \n"
   ]
  },
  {
   "cell_type": "markdown",
   "id": "ac3a0c2f",
   "metadata": {},
   "source": [
    "#### SetUp GitHub Repository\n",
    "- Signup for github for new account with your lincoln email: https://github.com/ \n",
    "- Create a repository (name) with your student registration number\n",
    "- Download GitHub Desktop\n",
    "- Clone Git Repository to Local\n",
    "- Try sample code commit & push\n",
    "<!-- ![Git](images/LAB1/Git.png) -->\n",
    "\n",
    "\n"
   ]
  },
  {
   "cell_type": "markdown",
   "id": "1abfb41e",
   "metadata": {},
   "source": [
    "#### Install Anaconda Distribution\n",
    "- https://www.anaconda.com/docs/getting-started/anaconda/install\n",
    "- Create a Virtual Environment\n",
    "- Load Code to VS Code Editor\n",
    "- Create requirements.txt file\n",
    "- Install necessary libraries\n",
    "- Some useful commands"
   ]
  },
  {
   "cell_type": "markdown",
   "id": "8c174465",
   "metadata": {},
   "source": [
    "### Datasets from Kaggle\n",
    "- Sign up/ in for Kaggel account: https://www.kaggle.com/\n",
    "- Criterion to select a dataset"
   ]
  }
 ],
 "metadata": {
  "kernelspec": {
   "display_name": "comp647_env",
   "language": "python",
   "name": "python3"
  },
  "language_info": {
   "name": "python",
   "version": "3.12.11"
  }
 },
 "nbformat": 4,
 "nbformat_minor": 5
}
