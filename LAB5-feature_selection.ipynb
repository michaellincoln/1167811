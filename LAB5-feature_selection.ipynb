{
 "cells": [
  {
   "cell_type": "markdown",
   "id": "da362f2e",
   "metadata": {},
   "source": [
    "## Feature Selection\n",
    "1. Filter Methods\n",
    "    - ANOVA [Numerical]\n",
    "    - Chi-Square Test [Categorical]\n",
    "2. Wrapper Methods\n",
    "    - Forward/ Backward Selection\n",
    "3. Embedded Methods\n",
    "    - Random Forests\n",
    "4. Hybrid/ Advanced Methods\n",
    "    - Laplacian Score"
   ]
  },
  {
   "cell_type": "code",
   "execution_count": 1,
   "id": "30830032",
   "metadata": {},
   "outputs": [],
   "source": [
    "import numpy as np\n",
    "import pandas as pd\n",
    "\n",
    "from sklearn.datasets import fetch_openml\n",
    "from sklearn.datasets import make_classification\n",
    "from sklearn.feature_selection import SelectKBest, f_classif, chi2\n",
    "\n",
    "from sklearn.linear_model import LogisticRegression\n",
    "from sklearn.model_selection import train_test_split\n",
    "from sklearn.preprocessing import LabelEncoder"
   ]
  },
  {
   "cell_type": "code",
   "execution_count": null,
   "id": "8bea426c",
   "metadata": {},
   "outputs": [],
   "source": [
    "# Binary classification\n",
    "\n",
    "def LogisticRegressionClassifier(X, y):\n",
    "    # Train-test split on reduced dataset\n",
    "    X_train, X_test, y_train, y_test = train_test_split(X, y, test_size=0.3, random_state=42)\n",
    "\n",
    "    # Train model\n",
    "    model = LogisticRegression()\n",
    "    model.fit(X_train, y_train)\n",
    "\n",
    "    print(\"Accuracy on test set:\", np.round(model.score(X_test, y_test), 2))"
   ]
  },
  {
   "cell_type": "markdown",
   "id": "1d84432c",
   "metadata": {},
   "source": [
    "## Filter Methods\n",
    "- How they work: Select features based on statistical properties of the data, independent of the learning algorithm\n",
    "- Advantages: Simple, fast, model-agnostic, less risk of overfitting.\n",
    "- Disadvantages: Do not capture feature interactions with the model."
   ]
  },
  {
   "cell_type": "markdown",
   "id": "a97f0065",
   "metadata": {},
   "source": [
    "#### ANOVA - Analysis of Variance\n",
    "- Works only with numerical independent variables and categorical dependent variables (classification).\n",
    "- Useful for identifying features that separate classes well.\n",
    "- Assumes normal distribution and equal variance across groups."
   ]
  },
  {
   "cell_type": "code",
   "execution_count": 26,
   "id": "4d018960",
   "metadata": {},
   "outputs": [
    {
     "name": "stdout",
     "output_type": "stream",
     "text": [
      "Selected Features: ['F1', 'F3', 'F4', 'F5', 'F10', 'F13', 'F16', 'F17']\n"
     ]
    }
   ],
   "source": [
    "# synthetic dataset\n",
    "X, y = make_classification(n_samples=100, n_features=20, n_informative=8, n_redundant=8, random_state=42)\n",
    "feature_names = [f\"F{i}\" for i in range(X.shape[1])]\n",
    "df = pd.DataFrame(X, columns=feature_names)\n",
    "\n",
    "# Apply ANOVA\n",
    "# This code selects the 8 best features from X that have the strongest statistical relationship with y \n",
    "# according to the ANOVA F-test, and returns a new dataset (X_new) with only those features.\n",
    "selector = SelectKBest(score_func=f_classif, k=8)\n",
    "X_new = selector.fit_transform(df, y)\n",
    "\n",
    "# Get mask of selected features\n",
    "mask = selector.get_support()\n",
    "\n",
    "# Get feature names\n",
    "selected_features = df.columns[mask]\n",
    "\n",
    "print(\"Selected Features:\", list(selected_features))"
   ]
  },
  {
   "cell_type": "code",
   "execution_count": 27,
   "id": "787d106f",
   "metadata": {},
   "outputs": [
    {
     "data": {
      "text/plain": [
       "array([[-3.82113336, -1.72761111,  0.02485234, ..., -4.76902424,\n",
       "         2.11323528, -1.20280453],\n",
       "       [-0.48794335, -1.04955638, -0.45821652, ..., -1.27180095,\n",
       "        -3.61522701,  2.39431413],\n",
       "       [-2.09808336, -0.05236947, -0.23289341, ..., -2.87091828,\n",
       "         0.91288706,  1.97676115],\n",
       "       ...,\n",
       "       [ 6.73455321, -0.70715514,  0.38004746, ...,  3.06138915,\n",
       "        -1.49128992,  0.44245816],\n",
       "       [-1.96835398, -2.29580631,  2.27086528, ..., -1.14324578,\n",
       "        -1.8506362 ,  1.84271981],\n",
       "       [ 0.19438346,  0.36812812, -2.29397634, ...,  0.8246515 ,\n",
       "        -2.15522817,  0.72180249]])"
      ]
     },
     "execution_count": 27,
     "metadata": {},
     "output_type": "execute_result"
    }
   ],
   "source": [
    "X"
   ]
  },
  {
   "cell_type": "code",
   "execution_count": 28,
   "id": "54d4d094",
   "metadata": {},
   "outputs": [
    {
     "data": {
      "text/plain": [
       "['F0',\n",
       " 'F1',\n",
       " 'F2',\n",
       " 'F3',\n",
       " 'F4',\n",
       " 'F5',\n",
       " 'F6',\n",
       " 'F7',\n",
       " 'F8',\n",
       " 'F9',\n",
       " 'F10',\n",
       " 'F11',\n",
       " 'F12',\n",
       " 'F13',\n",
       " 'F14',\n",
       " 'F15',\n",
       " 'F16',\n",
       " 'F17',\n",
       " 'F18',\n",
       " 'F19']"
      ]
     },
     "execution_count": 28,
     "metadata": {},
     "output_type": "execute_result"
    }
   ],
   "source": [
    "feature_names"
   ]
  },
  {
   "cell_type": "code",
   "execution_count": 4,
   "id": "1fb27632",
   "metadata": {},
   "outputs": [
    {
     "data": {
      "text/html": [
       "<div>\n",
       "<style scoped>\n",
       "    .dataframe tbody tr th:only-of-type {\n",
       "        vertical-align: middle;\n",
       "    }\n",
       "\n",
       "    .dataframe tbody tr th {\n",
       "        vertical-align: top;\n",
       "    }\n",
       "\n",
       "    .dataframe thead th {\n",
       "        text-align: right;\n",
       "    }\n",
       "</style>\n",
       "<table border=\"1\" class=\"dataframe\">\n",
       "  <thead>\n",
       "    <tr style=\"text-align: right;\">\n",
       "      <th></th>\n",
       "      <th>F0</th>\n",
       "      <th>F1</th>\n",
       "      <th>F2</th>\n",
       "      <th>F3</th>\n",
       "      <th>F4</th>\n",
       "      <th>F5</th>\n",
       "      <th>F6</th>\n",
       "      <th>F7</th>\n",
       "      <th>F8</th>\n",
       "      <th>F9</th>\n",
       "      <th>F10</th>\n",
       "      <th>F11</th>\n",
       "      <th>F12</th>\n",
       "      <th>F13</th>\n",
       "      <th>F14</th>\n",
       "      <th>F15</th>\n",
       "      <th>F16</th>\n",
       "      <th>F17</th>\n",
       "      <th>F18</th>\n",
       "      <th>F19</th>\n",
       "    </tr>\n",
       "  </thead>\n",
       "  <tbody>\n",
       "    <tr>\n",
       "      <th>0</th>\n",
       "      <td>-3.821133</td>\n",
       "      <td>-1.727611</td>\n",
       "      <td>0.024852</td>\n",
       "      <td>3.724986</td>\n",
       "      <td>-4.291174</td>\n",
       "      <td>-1.758557</td>\n",
       "      <td>-2.235676</td>\n",
       "      <td>-1.238163</td>\n",
       "      <td>1.001928</td>\n",
       "      <td>2.986384</td>\n",
       "      <td>1.964534</td>\n",
       "      <td>-1.107971</td>\n",
       "      <td>-1.563752</td>\n",
       "      <td>-5.002432</td>\n",
       "      <td>0.298052</td>\n",
       "      <td>-0.093705</td>\n",
       "      <td>4.333430</td>\n",
       "      <td>-4.769024</td>\n",
       "      <td>2.113235</td>\n",
       "      <td>-1.202805</td>\n",
       "    </tr>\n",
       "    <tr>\n",
       "      <th>1</th>\n",
       "      <td>-0.487943</td>\n",
       "      <td>-1.049556</td>\n",
       "      <td>-0.458217</td>\n",
       "      <td>1.220114</td>\n",
       "      <td>1.682745</td>\n",
       "      <td>2.264427</td>\n",
       "      <td>2.732692</td>\n",
       "      <td>-0.686916</td>\n",
       "      <td>2.218421</td>\n",
       "      <td>0.201040</td>\n",
       "      <td>0.955270</td>\n",
       "      <td>-0.970621</td>\n",
       "      <td>-2.759998</td>\n",
       "      <td>0.517214</td>\n",
       "      <td>-0.010116</td>\n",
       "      <td>-1.792456</td>\n",
       "      <td>0.098361</td>\n",
       "      <td>-1.271801</td>\n",
       "      <td>-3.615227</td>\n",
       "      <td>2.394314</td>\n",
       "    </tr>\n",
       "    <tr>\n",
       "      <th>2</th>\n",
       "      <td>-2.098083</td>\n",
       "      <td>-0.052369</td>\n",
       "      <td>-0.232893</td>\n",
       "      <td>2.517960</td>\n",
       "      <td>-1.628642</td>\n",
       "      <td>1.099946</td>\n",
       "      <td>0.662142</td>\n",
       "      <td>-1.193155</td>\n",
       "      <td>0.205027</td>\n",
       "      <td>0.749130</td>\n",
       "      <td>0.310403</td>\n",
       "      <td>0.077356</td>\n",
       "      <td>-3.380699</td>\n",
       "      <td>0.559598</td>\n",
       "      <td>1.001952</td>\n",
       "      <td>-1.040515</td>\n",
       "      <td>0.142905</td>\n",
       "      <td>-2.870918</td>\n",
       "      <td>0.912887</td>\n",
       "      <td>1.976761</td>\n",
       "    </tr>\n",
       "    <tr>\n",
       "      <th>3</th>\n",
       "      <td>1.073791</td>\n",
       "      <td>1.876327</td>\n",
       "      <td>0.301695</td>\n",
       "      <td>-3.020519</td>\n",
       "      <td>0.120694</td>\n",
       "      <td>-0.597747</td>\n",
       "      <td>-1.393866</td>\n",
       "      <td>-0.412072</td>\n",
       "      <td>-0.068791</td>\n",
       "      <td>0.631349</td>\n",
       "      <td>-0.882034</td>\n",
       "      <td>-0.456179</td>\n",
       "      <td>-6.077826</td>\n",
       "      <td>3.699888</td>\n",
       "      <td>-0.108038</td>\n",
       "      <td>-0.687402</td>\n",
       "      <td>-3.560037</td>\n",
       "      <td>2.693257</td>\n",
       "      <td>0.820371</td>\n",
       "      <td>5.132176</td>\n",
       "    </tr>\n",
       "    <tr>\n",
       "      <th>4</th>\n",
       "      <td>6.208669</td>\n",
       "      <td>-2.752368</td>\n",
       "      <td>0.797803</td>\n",
       "      <td>2.062771</td>\n",
       "      <td>0.362207</td>\n",
       "      <td>0.955333</td>\n",
       "      <td>-0.883463</td>\n",
       "      <td>0.826994</td>\n",
       "      <td>0.236425</td>\n",
       "      <td>-2.697770</td>\n",
       "      <td>3.169112</td>\n",
       "      <td>2.346627</td>\n",
       "      <td>2.733313</td>\n",
       "      <td>0.842772</td>\n",
       "      <td>0.230933</td>\n",
       "      <td>-1.493111</td>\n",
       "      <td>-2.004667</td>\n",
       "      <td>0.676131</td>\n",
       "      <td>-4.056706</td>\n",
       "      <td>1.021478</td>\n",
       "    </tr>\n",
       "  </tbody>\n",
       "</table>\n",
       "</div>"
      ],
      "text/plain": [
       "         F0        F1        F2        F3        F4        F5        F6  \\\n",
       "0 -3.821133 -1.727611  0.024852  3.724986 -4.291174 -1.758557 -2.235676   \n",
       "1 -0.487943 -1.049556 -0.458217  1.220114  1.682745  2.264427  2.732692   \n",
       "2 -2.098083 -0.052369 -0.232893  2.517960 -1.628642  1.099946  0.662142   \n",
       "3  1.073791  1.876327  0.301695 -3.020519  0.120694 -0.597747 -1.393866   \n",
       "4  6.208669 -2.752368  0.797803  2.062771  0.362207  0.955333 -0.883463   \n",
       "\n",
       "         F7        F8        F9       F10       F11       F12       F13  \\\n",
       "0 -1.238163  1.001928  2.986384  1.964534 -1.107971 -1.563752 -5.002432   \n",
       "1 -0.686916  2.218421  0.201040  0.955270 -0.970621 -2.759998  0.517214   \n",
       "2 -1.193155  0.205027  0.749130  0.310403  0.077356 -3.380699  0.559598   \n",
       "3 -0.412072 -0.068791  0.631349 -0.882034 -0.456179 -6.077826  3.699888   \n",
       "4  0.826994  0.236425 -2.697770  3.169112  2.346627  2.733313  0.842772   \n",
       "\n",
       "        F14       F15       F16       F17       F18       F19  \n",
       "0  0.298052 -0.093705  4.333430 -4.769024  2.113235 -1.202805  \n",
       "1 -0.010116 -1.792456  0.098361 -1.271801 -3.615227  2.394314  \n",
       "2  1.001952 -1.040515  0.142905 -2.870918  0.912887  1.976761  \n",
       "3 -0.108038 -0.687402 -3.560037  2.693257  0.820371  5.132176  \n",
       "4  0.230933 -1.493111 -2.004667  0.676131 -4.056706  1.021478  "
      ]
     },
     "execution_count": 4,
     "metadata": {},
     "output_type": "execute_result"
    }
   ],
   "source": [
    "df.head()"
   ]
  },
  {
   "cell_type": "code",
   "execution_count": 29,
   "id": "b96e9274",
   "metadata": {},
   "outputs": [
    {
     "data": {
      "text/plain": [
       "(100, 20)"
      ]
     },
     "execution_count": 29,
     "metadata": {},
     "output_type": "execute_result"
    }
   ],
   "source": [
    "df.shape"
   ]
  },
  {
   "cell_type": "code",
   "execution_count": 5,
   "id": "1ca6ac69",
   "metadata": {},
   "outputs": [
    {
     "name": "stdout",
     "output_type": "stream",
     "text": [
      "\n",
      "Logistic Regression on Selected Features:\n",
      "Accuracy on test set: 0.9\n",
      "\n",
      "Logistic Regression on All Features:\n",
      "Accuracy on test set: 0.9\n"
     ]
    }
   ],
   "source": [
    "print(\"\\nLogistic Regression on Selected Features:\")\n",
    "LogisticRegressionClassifier(X_new, y)\n",
    "\n",
    "print(\"\\nLogistic Regression on All Features:\")\n",
    "LogisticRegressionClassifier(X, y)"
   ]
  },
  {
   "cell_type": "markdown",
   "id": "95d232c9",
   "metadata": {},
   "source": [
    "#### Chi-square Test\n",
    "- Works only with categorical independent variables and categorical dependent variables (classification).\n",
    "- Useful for identifying features that are associated with the target."
   ]
  },
  {
   "cell_type": "code",
   "execution_count": 6,
   "id": "43ab99d6",
   "metadata": {},
   "outputs": [
    {
     "name": "stderr",
     "output_type": "stream",
     "text": [
      "c:\\Users\\irosh\\anaconda3\\envs\\comp647_env\\Lib\\site-packages\\sklearn\\datasets\\_openml.py:1031: UserWarning: Version 1 of dataset car is inactive, meaning that issues have been found in the dataset. Try using a newer version from this URL: https://api.openml.org/data/v1/download/21/car.arff\n",
      "  warn(\n"
     ]
    }
   ],
   "source": [
    "# Load Car dataset\n",
    "car = fetch_openml(name=\"car\", version=1, as_frame=True)\n",
    "df_car = car.frame"
   ]
  },
  {
   "cell_type": "code",
   "execution_count": 7,
   "id": "62f01bda",
   "metadata": {},
   "outputs": [
    {
     "data": {
      "text/html": [
       "<div>\n",
       "<style scoped>\n",
       "    .dataframe tbody tr th:only-of-type {\n",
       "        vertical-align: middle;\n",
       "    }\n",
       "\n",
       "    .dataframe tbody tr th {\n",
       "        vertical-align: top;\n",
       "    }\n",
       "\n",
       "    .dataframe thead th {\n",
       "        text-align: right;\n",
       "    }\n",
       "</style>\n",
       "<table border=\"1\" class=\"dataframe\">\n",
       "  <thead>\n",
       "    <tr style=\"text-align: right;\">\n",
       "      <th></th>\n",
       "      <th>buying</th>\n",
       "      <th>maint</th>\n",
       "      <th>doors</th>\n",
       "      <th>persons</th>\n",
       "      <th>lug_boot</th>\n",
       "      <th>safety</th>\n",
       "      <th>class</th>\n",
       "    </tr>\n",
       "  </thead>\n",
       "  <tbody>\n",
       "    <tr>\n",
       "      <th>0</th>\n",
       "      <td>vhigh</td>\n",
       "      <td>vhigh</td>\n",
       "      <td>2</td>\n",
       "      <td>2</td>\n",
       "      <td>small</td>\n",
       "      <td>low</td>\n",
       "      <td>unacc</td>\n",
       "    </tr>\n",
       "    <tr>\n",
       "      <th>1</th>\n",
       "      <td>vhigh</td>\n",
       "      <td>vhigh</td>\n",
       "      <td>2</td>\n",
       "      <td>2</td>\n",
       "      <td>small</td>\n",
       "      <td>med</td>\n",
       "      <td>unacc</td>\n",
       "    </tr>\n",
       "    <tr>\n",
       "      <th>2</th>\n",
       "      <td>vhigh</td>\n",
       "      <td>vhigh</td>\n",
       "      <td>2</td>\n",
       "      <td>2</td>\n",
       "      <td>small</td>\n",
       "      <td>high</td>\n",
       "      <td>unacc</td>\n",
       "    </tr>\n",
       "    <tr>\n",
       "      <th>3</th>\n",
       "      <td>vhigh</td>\n",
       "      <td>vhigh</td>\n",
       "      <td>2</td>\n",
       "      <td>2</td>\n",
       "      <td>med</td>\n",
       "      <td>low</td>\n",
       "      <td>unacc</td>\n",
       "    </tr>\n",
       "    <tr>\n",
       "      <th>4</th>\n",
       "      <td>vhigh</td>\n",
       "      <td>vhigh</td>\n",
       "      <td>2</td>\n",
       "      <td>2</td>\n",
       "      <td>med</td>\n",
       "      <td>med</td>\n",
       "      <td>unacc</td>\n",
       "    </tr>\n",
       "  </tbody>\n",
       "</table>\n",
       "</div>"
      ],
      "text/plain": [
       "  buying  maint doors persons lug_boot safety  class\n",
       "0  vhigh  vhigh     2       2    small    low  unacc\n",
       "1  vhigh  vhigh     2       2    small    med  unacc\n",
       "2  vhigh  vhigh     2       2    small   high  unacc\n",
       "3  vhigh  vhigh     2       2      med    low  unacc\n",
       "4  vhigh  vhigh     2       2      med    med  unacc"
      ]
     },
     "execution_count": 7,
     "metadata": {},
     "output_type": "execute_result"
    }
   ],
   "source": [
    "df_car.head()"
   ]
  },
  {
   "cell_type": "code",
   "execution_count": 8,
   "id": "379b130e",
   "metadata": {},
   "outputs": [
    {
     "data": {
      "text/plain": [
       "class\n",
       "unacc    1210\n",
       "acc       384\n",
       "good       69\n",
       "vgood      65\n",
       "Name: count, dtype: int64"
      ]
     },
     "execution_count": 8,
     "metadata": {},
     "output_type": "execute_result"
    }
   ],
   "source": [
    "df_car['class'].value_counts()"
   ]
  },
  {
   "cell_type": "code",
   "execution_count": 9,
   "id": "0055af87",
   "metadata": {},
   "outputs": [],
   "source": [
    "# Target variable: 'class' (edible=e, poisonous=p)\n",
    "y = df_car['class']"
   ]
  },
  {
   "cell_type": "code",
   "execution_count": 10,
   "id": "67c88195",
   "metadata": {},
   "outputs": [
    {
     "data": {
      "text/plain": [
       "Index(['buying', 'maint', 'doors', 'persons', 'lug_boot', 'safety', 'class'], dtype='object')"
      ]
     },
     "execution_count": 10,
     "metadata": {},
     "output_type": "execute_result"
    }
   ],
   "source": [
    "df_car.columns"
   ]
  },
  {
   "cell_type": "code",
   "execution_count": 11,
   "id": "1d5dc348",
   "metadata": {},
   "outputs": [
    {
     "data": {
      "text/plain": [
       "Index(['buying', 'maint', 'doors', 'persons', 'lug_boot', 'safety'], dtype='object')"
      ]
     },
     "execution_count": 11,
     "metadata": {},
     "output_type": "execute_result"
    }
   ],
   "source": [
    "# Select only categorical features (all columns except target)\n",
    "categorical_columns = df_car.drop(columns=['class']).select_dtypes(include=['object', 'category']).columns\n",
    "categorical_columns"
   ]
  },
  {
   "cell_type": "code",
   "execution_count": 12,
   "id": "268d1d41",
   "metadata": {},
   "outputs": [
    {
     "name": "stdout",
     "output_type": "stream",
     "text": [
      "Chi-square test results (feature vs target):\n",
      "buying: chi2=189.24, p-value=0.0000\n",
      "maint: chi2=142.94, p-value=0.0000\n",
      "doors: chi2=10.38, p-value=0.3202\n",
      "persons: chi2=371.34, p-value=0.0000\n",
      "lug_boot: chi2=53.28, p-value=0.0000\n",
      "safety: chi2=479.32, p-value=0.0000\n"
     ]
    }
   ],
   "source": [
    "from scipy.stats import chi2_contingency\n",
    "\n",
    "# Perform Chi-square test for each feature\n",
    "print(\"Chi-square test results (feature vs target):\")\n",
    "for feature in categorical_columns:\n",
    "    contingency_table = pd.crosstab(df_car[feature], y)\n",
    "    chi2, p, dof, expected = chi2_contingency(contingency_table)\n",
    "    print(f\"{feature}: chi2={chi2:.2f}, p-value={p:.4f}\")"
   ]
  },
  {
   "cell_type": "markdown",
   "id": "a01e694d",
   "metadata": {},
   "source": [
    " - p-value tells you whether the association is statistically significant. [p < 0.05 → feature is associated with target.]\n",
    " - Chi2 value indicates magnitude of association. [Higher Chi2 → stronger association with the target.]\n",
    "\n",
    "doors - Chi2 = 10.38 (low) and p-value = 0.32 → not significant → weak/no association."
   ]
  },
  {
   "cell_type": "code",
   "execution_count": 13,
   "id": "f8ee521f",
   "metadata": {},
   "outputs": [
    {
     "name": "stdout",
     "output_type": "stream",
     "text": [
      "\n",
      "Logistic Regression on Selected Features:\n",
      "Accuracy on test set: 0.9\n"
     ]
    }
   ],
   "source": [
    "y = df_car['class']\n",
    "le = LabelEncoder()\n",
    "y_encoded = le.fit_transform(y)\n",
    "\n",
    "# Features selected based on Chi-square test results\n",
    "X = df_car[['buying', 'maint', 'persons', 'lug_boot', 'safety']]\n",
    "\n",
    "# One-Hot Encode categorical features\n",
    "X_encoded = pd.get_dummies(X, drop_first=True)\n",
    "\n",
    "print(\"\\nLogistic Regression on Selected Features:\")\n",
    "LogisticRegressionClassifier(X_encoded, y_encoded)"
   ]
  },
  {
   "cell_type": "markdown",
   "id": "979a5a11",
   "metadata": {},
   "source": [
    "## Wrapper Methods\n",
    "- How they work: Use a predictive model to evaluate subsets of features.\n",
    "- Advantages: Capture feature interactions with the model.\n",
    "- Disadvantages: Computationally expensive, risk of overfitting."
   ]
  },
  {
   "cell_type": "markdown",
   "id": "a47b4e24",
   "metadata": {},
   "source": [
    "#### Forward Selection\n",
    "- Works with numerical or categorical independent variables and a target variable (classification or regression).\n",
    "- Adds features one by one, selecting the feature that improves model performance the most at each step.\n",
    "- Useful for building a minimal subset of predictive features.\n",
    "- Can be computationally expensive for high-dimensional data."
   ]
  },
  {
   "cell_type": "code",
   "execution_count": 31,
   "id": "99f8108f",
   "metadata": {},
   "outputs": [
    {
     "data": {
      "text/html": [
       "<div>\n",
       "<style scoped>\n",
       "    .dataframe tbody tr th:only-of-type {\n",
       "        vertical-align: middle;\n",
       "    }\n",
       "\n",
       "    .dataframe tbody tr th {\n",
       "        vertical-align: top;\n",
       "    }\n",
       "\n",
       "    .dataframe thead th {\n",
       "        text-align: right;\n",
       "    }\n",
       "</style>\n",
       "<table border=\"1\" class=\"dataframe\">\n",
       "  <thead>\n",
       "    <tr style=\"text-align: right;\">\n",
       "      <th></th>\n",
       "      <th>MedInc</th>\n",
       "      <th>HouseAge</th>\n",
       "      <th>AveRooms</th>\n",
       "      <th>AveBedrms</th>\n",
       "      <th>Population</th>\n",
       "      <th>AveOccup</th>\n",
       "      <th>Latitude</th>\n",
       "      <th>Longitude</th>\n",
       "      <th>MedHouseVal</th>\n",
       "    </tr>\n",
       "  </thead>\n",
       "  <tbody>\n",
       "    <tr>\n",
       "      <th>0</th>\n",
       "      <td>8.3252</td>\n",
       "      <td>41.0</td>\n",
       "      <td>6.984127</td>\n",
       "      <td>1.023810</td>\n",
       "      <td>322.0</td>\n",
       "      <td>2.555556</td>\n",
       "      <td>37.88</td>\n",
       "      <td>-122.23</td>\n",
       "      <td>4.526</td>\n",
       "    </tr>\n",
       "    <tr>\n",
       "      <th>1</th>\n",
       "      <td>8.3014</td>\n",
       "      <td>21.0</td>\n",
       "      <td>6.238137</td>\n",
       "      <td>0.971880</td>\n",
       "      <td>2401.0</td>\n",
       "      <td>2.109842</td>\n",
       "      <td>37.86</td>\n",
       "      <td>-122.22</td>\n",
       "      <td>3.585</td>\n",
       "    </tr>\n",
       "    <tr>\n",
       "      <th>2</th>\n",
       "      <td>7.2574</td>\n",
       "      <td>52.0</td>\n",
       "      <td>8.288136</td>\n",
       "      <td>1.073446</td>\n",
       "      <td>496.0</td>\n",
       "      <td>2.802260</td>\n",
       "      <td>37.85</td>\n",
       "      <td>-122.24</td>\n",
       "      <td>3.521</td>\n",
       "    </tr>\n",
       "    <tr>\n",
       "      <th>3</th>\n",
       "      <td>5.6431</td>\n",
       "      <td>52.0</td>\n",
       "      <td>5.817352</td>\n",
       "      <td>1.073059</td>\n",
       "      <td>558.0</td>\n",
       "      <td>2.547945</td>\n",
       "      <td>37.85</td>\n",
       "      <td>-122.25</td>\n",
       "      <td>3.413</td>\n",
       "    </tr>\n",
       "    <tr>\n",
       "      <th>4</th>\n",
       "      <td>3.8462</td>\n",
       "      <td>52.0</td>\n",
       "      <td>6.281853</td>\n",
       "      <td>1.081081</td>\n",
       "      <td>565.0</td>\n",
       "      <td>2.181467</td>\n",
       "      <td>37.85</td>\n",
       "      <td>-122.25</td>\n",
       "      <td>3.422</td>\n",
       "    </tr>\n",
       "  </tbody>\n",
       "</table>\n",
       "</div>"
      ],
      "text/plain": [
       "   MedInc  HouseAge  AveRooms  AveBedrms  Population  AveOccup  Latitude  \\\n",
       "0  8.3252      41.0  6.984127   1.023810       322.0  2.555556     37.88   \n",
       "1  8.3014      21.0  6.238137   0.971880      2401.0  2.109842     37.86   \n",
       "2  7.2574      52.0  8.288136   1.073446       496.0  2.802260     37.85   \n",
       "3  5.6431      52.0  5.817352   1.073059       558.0  2.547945     37.85   \n",
       "4  3.8462      52.0  6.281853   1.081081       565.0  2.181467     37.85   \n",
       "\n",
       "   Longitude  MedHouseVal  \n",
       "0    -122.23        4.526  \n",
       "1    -122.22        3.585  \n",
       "2    -122.24        3.521  \n",
       "3    -122.25        3.413  \n",
       "4    -122.25        3.422  "
      ]
     },
     "execution_count": 31,
     "metadata": {},
     "output_type": "execute_result"
    }
   ],
   "source": [
    "from sklearn.datasets import fetch_california_housing\n",
    "from sklearn.linear_model import LinearRegression\n",
    "from sklearn.feature_selection import SequentialFeatureSelector\n",
    "from sklearn.model_selection import cross_val_score\n",
    "\n",
    "# Load California Housing dataset\n",
    "data = fetch_california_housing(as_frame=True)\n",
    "X = data.data\n",
    "y = data.target\n",
    "\n",
    "house_price_df = pd.concat([X, y], axis=1)\n",
    "house_price_df.head()"
   ]
  },
  {
   "cell_type": "code",
   "execution_count": 32,
   "id": "14d8ea0f",
   "metadata": {},
   "outputs": [
    {
     "name": "stdout",
     "output_type": "stream",
     "text": [
      "Selected features: ['MedInc', 'Latitude', 'Longitude']\n",
      "Cross-validated R² on all features: 0.553\n",
      "Cross-validated R² on selected features: 0.533\n"
     ]
    }
   ],
   "source": [
    "# Initialize linear regression model\n",
    "lr = LinearRegression()\n",
    "\n",
    "# Forward selection\n",
    "# Forward selection: adds features one by one based on model performance.\n",
    "# Backward selection: starts with all features and removes the least useful ones. backward, forward\n",
    "sfs = SequentialFeatureSelector(lr, n_features_to_select=3, direction='backward', scoring='r2', cv=5)\n",
    "sfs.fit(X, y)\n",
    "selected_features = X.columns[sfs.get_support()]\n",
    "print(\"Selected features:\", list(selected_features))\n",
    "\n",
    "# R2 on all features (CV)\n",
    "cv_r2_all = cross_val_score(lr, X, y, cv=5, scoring='r2').mean()\n",
    "cv_r2_selected = cross_val_score(lr, X[selected_features], y, cv=5, scoring='r2').mean()\n",
    "\n",
    "print(\"Cross-validated R² on all features:\", np.round(cv_r2_all, 3))\n",
    "print(\"Cross-validated R² on selected features:\", np.round(cv_r2_selected, 3))"
   ]
  },
  {
   "cell_type": "markdown",
   "id": "e849cab9",
   "metadata": {},
   "source": [
    "## Embedded Methods\n",
    "- How they work: Feature selection happens naturally during model training.\n",
    "- Advantages: More efficient than wrappers; consider model-specific interactions.\n",
    "- Disadvantages: Dependent on chosen algorithm."
   ]
  },
  {
   "cell_type": "markdown",
   "id": "63f84f82",
   "metadata": {},
   "source": [
    "#### Random Forest Feature Selection\n",
    "- Works with numerical or categorical independent variables and a target variable (classification or regression).\n",
    "- Performs feature selection naturally during model training by evaluating feature importance based on splits.\n",
    "- Useful for identifying the most predictive features without separate selection steps.\n",
    "- Handles high-dimensional data well and captures non-linear relationships.\n",
    "- May be biased toward features with more levels (categorical) or higher variance (numerical)."
   ]
  },
  {
   "cell_type": "code",
   "execution_count": 22,
   "id": "517ff413",
   "metadata": {},
   "outputs": [
    {
     "name": "stdout",
     "output_type": "stream",
     "text": [
      "Top features by Random Forest importance:\n",
      "MedInc       0.520037\n",
      "AveOccup     0.136406\n",
      "Latitude     0.092856\n",
      "Longitude    0.092694\n",
      "HouseAge     0.052964\n",
      "dtype: float64\n",
      "\n",
      "Selected features (importance > 0.05): ['MedInc', 'AveOccup', 'Latitude', 'Longitude', 'HouseAge']\n"
     ]
    }
   ],
   "source": [
    "from sklearn.ensemble import RandomForestRegressor\n",
    "\n",
    "# Load dataset\n",
    "data = fetch_california_housing(as_frame=True)\n",
    "X = data.data\n",
    "y = data.target\n",
    "\n",
    "# Train Random Forest\n",
    "rf = RandomForestRegressor(n_estimators=100, random_state=42)\n",
    "rf.fit(X, y)\n",
    "\n",
    "# Get feature importances\n",
    "importances = pd.Series(rf.feature_importances_, index=X.columns)\n",
    "importances = importances.sort_values(ascending=False)\n",
    "\n",
    "# Print top features\n",
    "print(\"Top features by Random Forest importance:\")\n",
    "print(importances.head(5))\n",
    "\n",
    "# Optional: select features above a threshold\n",
    "threshold = 0.05\n",
    "selected_features = importances[importances > threshold].index.tolist()\n",
    "print(\"\\nSelected features (importance > 0.05):\", selected_features)\n"
   ]
  },
  {
   "cell_type": "markdown",
   "id": "3b4b74c4",
   "metadata": {},
   "source": [
    "- Random Forest calculates importance automatically during training.\n",
    "- Features with higher importance contribute more to prediction.\n",
    "- You can select a subset of features using a threshold or top-k features.\n",
    "- Works for both regression and classification tasks."
   ]
  },
  {
   "cell_type": "markdown",
   "id": "a956acf5",
   "metadata": {},
   "source": [
    "## Hybrid/ Advanced Methods\n",
    "- How they work: Combine filter, wrapper, and/or embedded approaches for better balance.\n",
    "- Advantages: Leverage strengths of multiple methods; improve accuracy; handle high-dimensional and complex data; reduce overfitting risk.\n",
    "- Disadvantages: Computationally expensive; harder to implement and tune; may still select redundant features; reproducibility can be challenging."
   ]
  },
  {
   "cell_type": "markdown",
   "id": "d9bb9ae5",
   "metadata": {},
   "source": [
    "#### Laplacian Score - Unsupervised\n",
    "- Works with numerical independent variables.\n",
    "- Measures the locality-preserving power of each feature by evaluating how well it respects the intrinsic geometric structure of the data.\n",
    "- Useful for selecting features that best preserve the data manifold and local relationships.\n",
    "- Can handle high-dimensional data and is effective in identifying discriminative features in unsupervised settings.\n",
    "- Does not capture complex non-linear dependencies between features and may be sensitive to noise or outliers."
   ]
  },
  {
   "cell_type": "code",
   "execution_count": 23,
   "id": "d72a841e",
   "metadata": {},
   "outputs": [
    {
     "data": {
      "text/html": [
       "<div>\n",
       "<style scoped>\n",
       "    .dataframe tbody tr th:only-of-type {\n",
       "        vertical-align: middle;\n",
       "    }\n",
       "\n",
       "    .dataframe tbody tr th {\n",
       "        vertical-align: top;\n",
       "    }\n",
       "\n",
       "    .dataframe thead th {\n",
       "        text-align: right;\n",
       "    }\n",
       "</style>\n",
       "<table border=\"1\" class=\"dataframe\">\n",
       "  <thead>\n",
       "    <tr style=\"text-align: right;\">\n",
       "      <th></th>\n",
       "      <th>sepal length (cm)</th>\n",
       "      <th>sepal width (cm)</th>\n",
       "      <th>petal length (cm)</th>\n",
       "      <th>petal width (cm)</th>\n",
       "      <th>target</th>\n",
       "    </tr>\n",
       "  </thead>\n",
       "  <tbody>\n",
       "    <tr>\n",
       "      <th>0</th>\n",
       "      <td>5.1</td>\n",
       "      <td>3.5</td>\n",
       "      <td>1.4</td>\n",
       "      <td>0.2</td>\n",
       "      <td>0</td>\n",
       "    </tr>\n",
       "    <tr>\n",
       "      <th>1</th>\n",
       "      <td>4.9</td>\n",
       "      <td>3.0</td>\n",
       "      <td>1.4</td>\n",
       "      <td>0.2</td>\n",
       "      <td>0</td>\n",
       "    </tr>\n",
       "    <tr>\n",
       "      <th>2</th>\n",
       "      <td>4.7</td>\n",
       "      <td>3.2</td>\n",
       "      <td>1.3</td>\n",
       "      <td>0.2</td>\n",
       "      <td>0</td>\n",
       "    </tr>\n",
       "    <tr>\n",
       "      <th>3</th>\n",
       "      <td>4.6</td>\n",
       "      <td>3.1</td>\n",
       "      <td>1.5</td>\n",
       "      <td>0.2</td>\n",
       "      <td>0</td>\n",
       "    </tr>\n",
       "    <tr>\n",
       "      <th>4</th>\n",
       "      <td>5.0</td>\n",
       "      <td>3.6</td>\n",
       "      <td>1.4</td>\n",
       "      <td>0.2</td>\n",
       "      <td>0</td>\n",
       "    </tr>\n",
       "  </tbody>\n",
       "</table>\n",
       "</div>"
      ],
      "text/plain": [
       "   sepal length (cm)  sepal width (cm)  petal length (cm)  petal width (cm)  \\\n",
       "0                5.1               3.5                1.4               0.2   \n",
       "1                4.9               3.0                1.4               0.2   \n",
       "2                4.7               3.2                1.3               0.2   \n",
       "3                4.6               3.1                1.5               0.2   \n",
       "4                5.0               3.6                1.4               0.2   \n",
       "\n",
       "   target  \n",
       "0       0  \n",
       "1       0  \n",
       "2       0  \n",
       "3       0  \n",
       "4       0  "
      ]
     },
     "execution_count": 23,
     "metadata": {},
     "output_type": "execute_result"
    }
   ],
   "source": [
    "from skfeature.function.similarity_based import lap_score\n",
    "from skfeature.utility import construct_W\n",
    "from sklearn.datasets import load_iris\n",
    "\n",
    "# Load dataset (for demonstration, using iris dataset)\n",
    "data = load_iris()\n",
    "X = data.data\n",
    "y = data.target\n",
    "feature_names = data.feature_names\n",
    "\n",
    "iris_df = pd.DataFrame(X, columns=feature_names)\n",
    "iris_df['target'] = y\n",
    "\n",
    "iris_df.head()"
   ]
  },
  {
   "cell_type": "code",
   "execution_count": 25,
   "id": "1b43ad38",
   "metadata": {},
   "outputs": [
    {
     "name": "stdout",
     "output_type": "stream",
     "text": [
      "Feature ranking by Laplacian Score (most important first):\n",
      "sepal width (cm): 0.0000\n",
      "sepal length (cm): 1.0000\n",
      "petal width (cm): 2.0000\n",
      "petal length (cm): 3.0000\n",
      "\n",
      "Top 3 features: ['sepal width (cm)', 'sepal length (cm)', 'petal width (cm)']\n"
     ]
    }
   ],
   "source": [
    "# Construct the affinity (similarity) matrix W using the k-nearest neighbors (k=5) approach, \n",
    "# where similarity between data points in X is computed with the Euclidean distance metric.\n",
    "W = construct_W.construct_W(X, mode='knn', neighbor=5, metric='euclidean')\n",
    "\n",
    "# Compute Laplacian Score\n",
    "score = lap_score.lap_score(X, W=W)\n",
    "lap_scores = score.flatten()\n",
    "\n",
    "# Rank features (lower score = more important)\n",
    "feature_ranking = np.argsort(lap_scores)\n",
    "print(\"Feature ranking by Laplacian Score (most important first):\")\n",
    "for i in feature_ranking:\n",
    "    print(f\"{feature_names[i]}: {lap_scores[i]:.4f}\")\n",
    "\n",
    "# Optionally, select top k features\n",
    "k = 3\n",
    "top_features = [feature_names[i] for i in feature_ranking[:k]]\n",
    "print(\"\\nTop\", k, \"features:\", top_features)"
   ]
  }
 ],
 "metadata": {
  "kernelspec": {
   "display_name": "comp647_env",
   "language": "python",
   "name": "python3"
  },
  "language_info": {
   "codemirror_mode": {
    "name": "ipython",
    "version": 3
   },
   "file_extension": ".py",
   "mimetype": "text/x-python",
   "name": "python",
   "nbconvert_exporter": "python",
   "pygments_lexer": "ipython3",
   "version": "3.12.11"
  }
 },
 "nbformat": 4,
 "nbformat_minor": 5
}
