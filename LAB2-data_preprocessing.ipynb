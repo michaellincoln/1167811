LAB 02 – Data Cleaning/ Preprocessing Techniques

Handle Duplicates

Handle Irrelevant Data

Handle Missing Values

Handle Outliers

# Import necessary libraries
import pandas as pd  # Data manipulation and analysis.
import numpy as np   # Numerical operations and array handling.
import matplotlib.pyplot as plt  # More control, lower-level, basic plotting.
import seaborn as sns  # Higher-level, more aesthetically pleasing plots.
from scipy import stats  # Statistical functions and tests.

pd.set_option('display.max_columns', None)  # Display all columns in DataFrame output.
pd.set_option('display.max_rows', None)     # Display all rows in DataFrame output.

Load Data from a CSV
df = pd.read_csv('data/all_perth_310121.csv')

# Display the first 5 rows of the DataFrame to understand its structure.
df.head()

# Returns the number of rows and columns in the DataFrame.
df.shape

# Returns information about the DataFrame, including data types and non-null counts.
df.info()

# Returns summary statistics for numerical columns in the DataFrame.
df.describe().transpose()

1. Handle Duplicates
df.columns

# Check for duplicates in each column and print the count of duplicates for each column.
for col in df.columns:
    duplicated_count = df[col].duplicated().sum()
    print(f"Column: {col}")
    print(f"Duplicate Count: {duplicated_count}")
    print("*" * 50)
