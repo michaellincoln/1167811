{
 "cells": [
  {
   "cell_type": "markdown",
   "metadata": {},
   "source": [
    "# Assignment 3: Machine Learning for Huntington's Disease Prediction\n",
    "\n",
    "---\n",
    "\n",
    "**Objective:** Build and evaluate machine learning models to predict disease stage in Huntington's Disease patients using clinical, genetic, and molecular features.\n",
    "\n",
    "**Dataset:** Huntington's Disease Dataset (48,536 patients, 13 clinical features)\n",
    "\n",
    "**Target Variable:** Disease_Stage (5-class classification: Pre-symptomatic, Early Stage, Mid Stage, Late Stage, Advanced)\n",
    "\n",
    "---\n",
    "\n",
    "## Why This Matters\n",
    "\n",
    "Accurate prediction of disease stage in Huntington's Disease enables:\n",
    "- **Early Intervention:** Identify patients who would benefit from early treatment\n",
    "- **Treatment Planning:** Tailor therapeutic strategies based on disease progression\n",
    "- **Clinical Trials:** Stratify patients for more effective trial enrollment\n",
    "- **Patient Counseling:** Provide evidence-based prognosis for personalized care\n",
    "\n",
    "---\n",
    "\n",
    "## Success Criteria\n",
    "\n",
    "- High classification accuracy (>85%)\n",
    "- Balanced precision and recall across all disease stages\n",
    "- Interpretable models that align with clinical knowledge\n",
    "- Robust generalization to unseen patient data\n",
    "\n",
    "---"
   ]
  },
  {
   "cell_type": "markdown",
   "metadata": {},
   "source": [
    "## 1. Introduction & Setup\n",
    "\n",
    "### 1.1 Import Libraries"
   ]
  },
  {
   "cell_type": "code",
   "execution_count": null,
   "metadata": {},
   "outputs": [],
   "source": [
    "#import core libraries for data manipulation and visualization\n",
    "import pandas as pd\n",
    "import numpy as np\n",
    "import matplotlib.pyplot as plt\n",
    "import seaborn as sns\n",
    "from scipy import stats\n",
    "\n",
    "#utilities\n",
    "import warnings\n",
    "warnings.filterwarnings('ignore')\n",
    "\n",
    "#setting random seed ensures reproducible results across runs\n",
    "RANDOM_STATE = 42\n",
    "np.random.seed(RANDOM_STATE)\n",
    "\n",
    "#configure display settings for better readability\n",
    "pd.set_option('display.max_columns', None)\n",
    "pd.set_option('display.max_rows', 100)\n",
    "pd.set_option('display.float_format', '{:.4f}'.format)\n",
    "\n",
    "#plotting style for visualizations\n",
    "plt.style.use('default')\n",
    "sns.set_palette(\"husl\")\n",
    "\n",
    "print(\"✓ Core libraries imported successfully\")\n",
    "print(f\"✓ Random seed set to {RANDOM_STATE} for reproducibility\")\n",
    "print(\"\\nNote: Additional libraries will be imported in relevant sections as needed\")"
   ]
  },
  {
   "cell_type": "markdown",
   "metadata": {},
   "source": [
    "## 2. Load Data"
   ]
  },
  {
   "cell_type": "code",
   "execution_count": null,
   "metadata": {},
   "outputs": [],
   "source": [
    "#load cleaned data from assinment 2\n",
    "#data preprocessing (removing irrelevant columns, handling duplicates, etc) was completed in assignment 2\n",
    "df = pd.read_csv('data/Huntington_Disease_Cleaned.csv')\n",
    "\n",
    "print(f\"Data loaded: {df.shape[0]:,} patients, {df.shape[1]} features\")\n",
    "print(f\"Target variable: Disease_Stage (multi-class classification)\")"
   ]
  },
  {
   "cell_type": "code",
   "execution_count": null,
   "metadata": {},
   "outputs": [],
   "source": [
    "#quick overview\n",
    "df.head()"
   ]
  },
  {
   "cell_type": "code",
   "execution_count": null,
   "metadata": {},
   "outputs": [],
   "source": [
    "#check target variable distribution\n",
    "#check for class imbalance\n",
    "print(\"Disease Stage Distribution:\")\n",
    "print(df['Disease_Stage'].value_counts())\n",
    "print(f\"\\nClass balance:\")\n",
    "print(df['Disease_Stage'].value_counts(normalize=True) * 100)"
   ]
  },
  {
   "cell_type": "code",
   "execution_count": null,
   "metadata": {},
   "outputs": [],
   "source": [
    "#visualize class distribution\n",
    "plt.figure(figsize=(10, 5))\n",
    "df['Disease_Stage'].value_counts().plot(kind='bar', color='steelblue')\n",
    "plt.title('Distribution of Disease Stages')\n",
    "plt.xlabel('Disease Stage')\n",
    "plt.ylabel('Number of Patients')\n",
    "plt.xticks(rotation=45)\n",
    "plt.tight_layout()\n",
    "plt.show()"
   ]
  }
 ],
 "metadata": {
  "kernelspec": {
   "display_name": "Python 3",
   "language": "python",
   "name": "python3"
  },
  "language_info": {
   "codemirror_mode": {
    "name": "ipython",
    "version": 3
   },
   "file_extension": ".py",
   "mimetype": "text/x-python",
   "name": "python",
   "nbconvert_exporter": "python",
   "pygments_lexer": "ipython3",
   "version": "3.11.13"
  }
 },
 "nbformat": 4,
 "nbformat_minor": 4
}
