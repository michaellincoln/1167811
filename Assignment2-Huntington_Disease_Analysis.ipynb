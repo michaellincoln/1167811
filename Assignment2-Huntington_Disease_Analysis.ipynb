{
 "cells": [
  {
   "cell_type": "markdown",
   "metadata": {},
   "source": [
    "# Assignment 2: Huntington's Disease Dataset Analysis\n",
    "\n",
    "---"
   ]
  },
  {
   "cell_type": "markdown",
   "metadata": {},
   "source": [
    "## 1. Import Necessary Libraries"
   ]
  },
  {
   "cell_type": "code",
   "execution_count": null,
   "metadata": {},
   "outputs": [],
   "source": [
    "# Core data manipulation and analysis libraries\n",
    "import pandas as pd\n",
    "import numpy as np\n",
    "\n",
    "# Visualization libraries\n",
    "import matplotlib.pyplot as plt\n",
    "import seaborn as sns\n",
    "\n",
    "# Statistical analysis\n",
    "from scipy import stats\n",
    "\n",
    "# Suppress warnings for cleaner output\n",
    "import warnings\n",
    "warnings.filterwarnings('ignore')\n",
    "\n",
    "# Set display options for better DataFrame output\n",
    "pd.set_option('display.max_columns', None)\n",
    "pd.set_option('display.max_rows', 100)\n",
    "\n",
    "# Set plotting style for better visualizations\n",
    "plt.style.use('default')\n",
    "sns.set_palette(\"husl\")"
   ]
  },
  {
   "cell_type": "markdown",
   "metadata": {},
   "source": [
    "## 2. Data Loading and Initial Exploration"
   ]
  },
  {
   "cell_type": "code",
   "execution_count": null,
   "metadata": {},
   "outputs": [],
   "source": [
    "# load dataset\n",
    "df = pd.read_csv('data/Huntington_Disease_Dataset.csv')\n",
    "\n",
    "print(\"Dataset loaded successfully!\")\n",
    "print(f\"Dataset shape: {df.shape}\")\n",
    "print(f\"Number of patients: {df.shape[0]}\")\n",
    "print(f\"Number of features: {df.shape[1]}\")"
   ]
  },
  {
   "cell_type": "code",
   "execution_count": null,
   "metadata": {},
   "outputs": [],
   "source": [
    "#display first few rows to see the data structure\n",
    "print(\"First 5 rows of the dataset:\")\n",
    "df.head()"
   ]
  },
  {
   "cell_type": "code",
   "execution_count": null,
   "metadata": {},
   "outputs": [],
   "source": [
    "#detailed information about the dataset\n",
    "#to check data types, missing values, and memory usage\n",
    "print(\"Dataset Information:\")\n",
    "print(\"=\" * 50)\n",
    "df.info()"
   ]
  },
  {
   "cell_type": "code",
   "execution_count": null,
   "metadata": {},
   "outputs": [],
   "source": [
    "#statistical summary of numerical columns\n",
    "#to provide insights into the distribution of key clinical variables\n",
    "print(\"Statistical Summary of Numerical Features:\")\n",
    "print(\"=\" * 50)\n",
    "df.describe().transpose()"
   ]
  },
  {
   "cell_type": "code",
   "execution_count": null,
   "metadata": {},
   "outputs": [],
   "source": [
    "#identify column types and their relevance for analysis\n",
    "\n",
    "print(\"Column Analysis:\")\n",
    "print(\"=\" * 40)\n",
    "for i, col in enumerate(df.columns):\n",
    "    dtype = df[col].dtype\n",
    "    unique_vals = df[col].nunique()\n",
    "    missing_vals = df[col].isnull().sum()\n",
    "    print(f\"{i+1:2d}. {col:<30} | {str(dtype):<10} | Unique: {unique_vals:4d} | Missing: {missing_vals:3d}\")"
   ]
  },
  {
   "cell_type": "markdown",
   "metadata": {},
   "source": [
    "## 3. Data Preprocessing\n",
    "\n",
    "### 3.1 Data Cleaning and Feature Selection"
   ]
  },
  {
   "cell_type": "code",
   "execution_count": null,
   "metadata": {},
   "outputs": [],
   "source": [
    "#test to remove irrelevant columns for analysis\n",
    "#patient_ID: unique identifier, not predictive\n",
    "#random sequences: generated for privacy, not real biological data\n",
    "#gene info columns: redundant descriptive information\n",
    "#\n",
    "\n",
    "columns_to_drop = [\n",
    "    'Patient_ID',  # Unique identifier - not predictive\n",
    "    'Random_Protein_Sequence',  # Random sequence for privacy\n",
    "    'Random_Gene_Sequence',  # Random sequence for privacy  \n",
    "    'Gene/Factor',  # Redundant with other genetic features\n",
    "    'Chromosome_Location',  # Static genetic information\n",
    "    'Function',  # Descriptive, not quantitative\n",
    "    'Effect',  # Descriptive, not quantitative\n",
    "    'Category'  # Descriptive, not quantitative\n",
    "]\n",
    "\n",
    "# Create cleaned dataset focusing on clinically relevant features\n",
    "df_clean = df.drop(columns=columns_to_drop)\n",
    "\n",
    "print(f\"Original dataset: {df.shape}\")\n",
    "print(f\"Cleaned dataset: {df_clean.shape}\")\n",
    "print(f\"Removed {len(columns_to_drop)} irrelevant columns\")\n",
    "\n",
    "print(\"\\nRemaining features:\")\n",
    "for col in df_clean.columns:\n",
    "    print(f\"- {col}\")"
   ]
  },
  {
   "cell_type": "markdown",
   "metadata": {},
   "source": [
    "### 3.2 Handle Duplicates"
   ]
  },
  {
   "cell_type": "code",
   "execution_count": null,
   "metadata": {},
   "outputs": [],
   "source": [
    "# Check for duplicate records\n",
    "# In medical data, duplicates could indicate data entry errors\n",
    "\n",
    "print(\"Duplicate Analysis:\")\n",
    "print(\"=\" * 30)\n",
    "\n",
    "# Check for complete duplicates\n",
    "duplicate_rows = df_clean.duplicated().sum()\n",
    "print(f\"Complete duplicate rows: {duplicate_rows}\")\n",
    "\n",
    "# Check for duplicates based on key clinical features\n",
    "key_features = ['Age', 'Sex', 'HTT_CAG_Repeat_Length', 'Disease_Stage']\n",
    "duplicate_clinical = df_clean.duplicated(subset=key_features).sum()\n",
    "print(f\"Duplicate clinical profiles: {duplicate_clinical}\")\n",
    "\n",
    "if duplicate_rows > 0:\n",
    "    print(f\"\\nRemoving {duplicate_rows} duplicate rows...\")\n",
    "    df_clean = df_clean.drop_duplicates()\n",
    "    print(f\"Dataset shape after removing duplicates: {df_clean.shape}\")\n",
    "else:\n",
    "    print(\"No duplicate rows found - data quality is good!\")"
   ]
  }
 ],
 "metadata": {
  "kernelspec": {
   "display_name": "Python 3",
   "language": "python",
   "name": "python3"
  },
  "language_info": {
   "codemirror_mode": {
    "name": "ipython",
    "version": 3
   },
   "file_extension": ".py",
   "mimetype": "text/x-python",
   "name": "python",
   "nbconvert_exporter": "python",
   "pygments_lexer": "ipython3",
   "version": "3.11.13"
  }
 },
 "nbformat": 4,
 "nbformat_minor": 4
}
